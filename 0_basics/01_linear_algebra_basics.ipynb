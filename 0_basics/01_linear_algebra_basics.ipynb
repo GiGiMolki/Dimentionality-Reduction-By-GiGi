{
 "cells": [
  {
   "cell_type": "markdown",
   "metadata": {},
   "source": [
    "## 0.01 Linear Algebra Basics"
   ]
  },
  {
   "cell_type": "markdown",
   "metadata": {},
   "source": [
    "Linear Algebra is one of the core mathematical fields used in machine learning and dimensionality reduction techniques. It’s the language through which data is represented, manipulated, and understood, especially when dealing with large datasets and high-dimensional data."
   ]
  },
  {
   "cell_type": "markdown",
   "metadata": {},
   "source": [
    "#### 1. What is Linear Algebra?"
   ]
  },
  {
   "cell_type": "markdown",
   "metadata": {},
   "source": [
    "• Linear Algebra is a branch of mathematics that focuses on vector spaces and linear mappings between those spaces. It deals with vectors, matrices, and operations like matrix multiplication, eigenvectors, and eigenvalues.\n",
    "\t\n",
    "• Importance in ML:\n",
    "   Linear algebra provides the tools needed to manipulate and process data efficiently, which is essential for implementing algorithms like Principal Component Analysis (PCA), Singular Value Decomposition (SVD), and more."
   ]
  },
  {
   "cell_type": "markdown",
   "metadata": {},
   "source": [
    "#### 2. Vectors (1D Arrays)"
   ]
  },
  {
   "cell_type": "markdown",
   "metadata": {},
   "source": [
    "•\tA vector is a one-dimensional array of numbers. It can represent anything from a list of features (in ML) to physical quantities (like velocity, force, etc.).\n",
    "\n",
    "•\tKey Concepts:\n",
    "\n",
    "•\tScalar: A single number (0D tensor).\n",
    "\n",
    "•\tVector: A list of numbers (1D tensor).\n",
    "\n",
    "•\tExample:\n",
    "\n",
    "•\tCode:"
   ]
  },
  {
   "cell_type": "code",
   "execution_count": 1,
   "metadata": {},
   "outputs": [
    {
     "name": "stdout",
     "output_type": "stream",
     "text": [
      "Vector: [1 2 3]\n"
     ]
    }
   ],
   "source": [
    "import numpy as np\n",
    "vector = np.array([1, 2, 3])\n",
    "print(\"Vector:\", vector)"
   ]
  },
  {
   "cell_type": "markdown",
   "metadata": {},
   "source": [
    "🔹 1. Vector Creation"
   ]
  },
  {
   "cell_type": "code",
   "execution_count": 24,
   "metadata": {},
   "outputs": [],
   "source": [
    "import numpy as np\n",
    "\n",
    "v1 = np.array([1, 2])\n",
    "v2 = np.array([3, 4])"
   ]
  },
  {
   "cell_type": "markdown",
   "metadata": {},
   "source": [
    "🔹 2. Addition & Subtraction\n",
    "\n",
    "   Adds or subtracts each corresponding element."
   ]
  },
  {
   "cell_type": "code",
   "execution_count": 30,
   "metadata": {},
   "outputs": [
    {
     "name": "stdout",
     "output_type": "stream",
     "text": [
      "[4 6]\n",
      "[-2 -2]\n"
     ]
    }
   ],
   "source": [
    "add = v1 + v2      # [4, 6]\n",
    "sub = v1 - v2  # [-2, -2]\n",
    "print(add)\n",
    "print(sub)"
   ]
  },
  {
   "cell_type": "markdown",
   "metadata": {},
   "source": [
    "🔹 3. Scalar Multiplication\n",
    "\n",
    "Scales the vector by a constant."
   ]
  },
  {
   "cell_type": "code",
   "execution_count": 31,
   "metadata": {},
   "outputs": [
    {
     "name": "stdout",
     "output_type": "stream",
     "text": [
      "[2 4]\n"
     ]
    }
   ],
   "source": [
    "scaled = 2 * v1    # [2, 4]\n",
    "print(scaled)"
   ]
  },
  {
   "cell_type": "markdown",
   "metadata": {},
   "source": [
    "🔹 4. Dot Product (Inner Product)\n"
   ]
  },
  {
   "cell_type": "code",
   "execution_count": 33,
   "metadata": {},
   "outputs": [],
   "source": [
    "dot = np.dot(v1, v2)  # 1*3 + 2*4 = 11"
   ]
  },
  {
   "cell_type": "markdown",
   "metadata": {},
   "source": [
    "🔹 5. Norms (Vector Magnitude)"
   ]
  },
  {
   "cell_type": "markdown",
   "metadata": {},
   "source": [
    "➤ L2 Norm (Euclidean Length):"
   ]
  },
  {
   "cell_type": "code",
   "execution_count": null,
   "metadata": {},
   "outputs": [
    {
     "name": "stdout",
     "output_type": "stream",
     "text": [
      "2.23606797749979\n"
     ]
    }
   ],
   "source": [
    "l2_norm = np.linalg.norm(v1)  # √(1² + 2²) = √5"
   ]
  },
  {
   "cell_type": "markdown",
   "metadata": {},
   "source": [
    "➤ L1 Norm (Manhattan Distance):"
   ]
  },
  {
   "cell_type": "code",
   "execution_count": 38,
   "metadata": {},
   "outputs": [],
   "source": [
    "l1_norm = np.linalg.norm(v1, ord=1)  # 1 + 2 = 3"
   ]
  },
  {
   "cell_type": "markdown",
   "metadata": {},
   "source": [
    "![](WhatsApp Image 2025-03-23 at 18.28.18.jpeg)"
   ]
  },
  {
   "cell_type": "code",
   "execution_count": null,
   "metadata": {},
   "outputs": [
    {
     "name": "stdout",
     "output_type": "stream",
     "text": [
      "zsh:1: unknown file attribute: h\n"
     ]
    }
   ],
   "source": []
  },
  {
   "cell_type": "markdown",
   "metadata": {},
   "source": [
    "#### 3. Matrices (2D Arrays)"
   ]
  },
  {
   "cell_type": "markdown",
   "metadata": {},
   "source": [
    "•\tA matrix is a 2D array (table) of numbers organized in rows and columns.\n",
    "\n",
    "•\tMatrix Operations:\n",
    "\n",
    "•\tAddition: Adding corresponding elements.\n",
    "\n",
    "•\tScalar Multiplication: Multiplying all elements by a scalar.\n",
    "\n",
    "•\tDot Product: A key operation where the matrix is multiplied with a vector.\n",
    "\n",
    "•\tTransposition: Flipping rows and columns.\n",
    "\n",
    "•\tDeterminant: A scalar value that can give insight into the matrix’s properties (e.g., invertibility).\n",
    "\n",
    "•\tExample:\n",
    "\n",
    "•\tCode:"
   ]
  },
  {
   "cell_type": "code",
   "execution_count": 3,
   "metadata": {},
   "outputs": [
    {
     "name": "stdout",
     "output_type": "stream",
     "text": [
      "Matrix:\n",
      " [[1 2]\n",
      " [3 4]\n",
      " [5 6]]\n"
     ]
    }
   ],
   "source": [
    "matrix = np.array([[1, 2], [3, 4], [5, 6]])\n",
    "print(\"Matrix:\\n\", matrix)"
   ]
  },
  {
   "cell_type": "markdown",
   "metadata": {},
   "source": [
    "•\tMatrix Visualization (Heatmap):"
   ]
  },
  {
   "cell_type": "code",
   "execution_count": 4,
   "metadata": {},
   "outputs": [
    {
     "data": {
      "image/png": "[encoded data removed]",
      "text/plain": [
       "<Figure size 640x480 with 2 Axes>"
      ]
     },
     "metadata": {},
     "output_type": "display_data"
    }
   ],
   "source": [
    "import seaborn as sns\n",
    "sns.heatmap(matrix, annot=True, cmap='coolwarm')\n",
    "plt.title(\"Matrix Heatmap\")\n",
    "plt.show()"
   ]
  },
  {
   "cell_type": "markdown",
   "metadata": {},
   "source": [
    "#### 4. Matrix Operations"
   ]
  },
  {
   "cell_type": "markdown",
   "metadata": {},
   "source": [
    "•\tMatrix Addition and Scalar Multiplication:\n",
    "\n",
    "•\tCode:"
   ]
  },
  {
   "cell_type": "code",
   "execution_count": 5,
   "metadata": {},
   "outputs": [
    {
     "name": "stdout",
     "output_type": "stream",
     "text": [
      "Matrix Addition:\n",
      " [[ 6  8]\n",
      " [10 12]]\n",
      "Scalar Multiplication:\n",
      " [[ 3  6]\n",
      " [ 9 12]]\n"
     ]
    }
   ],
   "source": [
    "matrix1 = np.array([[1, 2], [3, 4]])\n",
    "matrix2 = np.array([[5, 6], [7, 8]])\n",
    "print(\"Matrix Addition:\\n\", matrix1 + matrix2)\n",
    "print(\"Scalar Multiplication:\\n\", matrix1 * 3)"
   ]
  },
  {
   "cell_type": "markdown",
   "metadata": {},
   "source": [
    "•\tDot Product: The dot product is a fundamental operation in linear algebra. It is the sum of the products of the corresponding entries of two sequences of numbers.\n",
    "\n",
    "•\tCode:"
   ]
  },
  {
   "cell_type": "code",
   "execution_count": 6,
   "metadata": {},
   "outputs": [
    {
     "name": "stdout",
     "output_type": "stream",
     "text": [
      "Dot Product: 11\n"
     ]
    }
   ],
   "source": [
    "vector1 = np.array([1, 2])\n",
    "vector2 = np.array([3, 4])\n",
    "dot_product = np.dot(vector1, vector2)\n",
    "print(\"Dot Product:\", dot_product)"
   ]
  },
  {
   "cell_type": "markdown",
   "metadata": {},
   "source": [
    "•\tVisualization:"
   ]
  },
  {
   "cell_type": "code",
   "execution_count": 7,
   "metadata": {},
   "outputs": [
    {
     "data": {
      "image/png": "[encoded data removed]",
      "text/plain": [
       "<Figure size 640x480 with 1 Axes>"
      ]
     },
     "metadata": {},
     "output_type": "display_data"
    }
   ],
   "source": [
    "fig, ax = plt.subplots()\n",
    "ax.quiver(0, 0, vector1[0], vector1[1], angles='xy', scale_units='xy', scale=1, color=\"blue\")\n",
    "ax.quiver(0, 0, vector2[0], vector2[1], angles='xy', scale_units='xy', scale=1, color=\"green\")\n",
    "ax.set_xlim(-5, 5)\n",
    "ax.set_ylim(-5, 5)\n",
    "plt.grid(True)\n",
    "plt.title(\"Dot Product (Vectors Visualization)\")\n",
    "plt.show()"
   ]
  },
  {
   "cell_type": "markdown",
   "metadata": {},
   "source": [
    "#### 5. Eigenvalues and Eigenvectors"
   ]
  },
  {
   "cell_type": "markdown",
   "metadata": {},
   "source": [
    "•\tEigenvectors are vectors that do not change direction under a given linear transformation. They only get scaled by a scalar factor (eigenvalue).\n",
    "\n",
    "•\tImportance in ML: PCA, which is one of the most common dimensionality reduction techniques, uses eigenvectors and eigenvalues to reduce the data’s dimensionality.\n",
    "\n",
    "•\tFinding Eigenvectors and Eigenvalues:\n",
    "\n",
    "•\tCode:"
   ]
  },
  {
   "cell_type": "code",
   "execution_count": 8,
   "metadata": {},
   "outputs": [
    {
     "name": "stdout",
     "output_type": "stream",
     "text": [
      "Eigenvalues: [3. 2.]\n",
      "Eigenvectors:\n",
      " [[0.89442719 0.70710678]\n",
      " [0.4472136  0.70710678]]\n"
     ]
    }
   ],
   "source": [
    "matrix = np.array([[4, -2], [1,  1]])\n",
    "eigenvalues, eigenvectors = np.linalg.eig(matrix)\n",
    "print(\"Eigenvalues:\", eigenvalues)\n",
    "print(\"Eigenvectors:\\n\", eigenvectors)"
   ]
  },
  {
   "cell_type": "markdown",
   "metadata": {},
   "source": [
    "•\tVisualization (Eigenvectors):"
   ]
  },
  {
   "cell_type": "code",
   "execution_count": 9,
   "metadata": {},
   "outputs": [
    {
     "data": {
      "image/png": "[encoded data removed]",
      "text/plain": [
       "<Figure size 640x480 with 1 Axes>"
      ]
     },
     "metadata": {},
     "output_type": "display_data"
    }
   ],
   "source": [
    "eigenvector1 = eigenvectors[:, 0]\n",
    "eigenvector2 = eigenvectors[:, 1]\n",
    "\n",
    "plt.quiver(0, 0, eigenvector1[0], eigenvector1[1], angles='xy', scale_units='xy', scale=1, color=\"blue\", label=\"Eigenvector 1\")\n",
    "plt.quiver(0, 0, eigenvector2[0], eigenvector2[1], angles='xy', scale_units='xy', scale=1, color=\"green\", label=\"Eigenvector 2\")\n",
    "plt.xlim(-3, 3)\n",
    "plt.ylim(-3, 3)\n",
    "plt.legend()\n",
    "plt.grid(True)\n",
    "plt.title(\"Eigenvectors Visualization\")\n",
    "plt.show()"
   ]
  },
  {
   "cell_type": "markdown",
   "metadata": {},
   "source": [
    "#### 6. Singular Value Decomposition (SVD)"
   ]
  },
  {
   "cell_type": "markdown",
   "metadata": {},
   "source": [
    "•\tSVD is a method of decomposing a matrix into three other matrices. It’s widely used in dimensionality reduction and factorization tasks.\n",
    "\n",
    "•\tSVD breaks down a matrix A into:\n",
    "\n",
    "•\tA = U * S * V^T\n",
    "\n",
    "•\tWhere U and V are orthogonal matrices, and S is a diagonal matrix of singular values.\n",
    "\n",
    "•\tExample:\n",
    "\n",
    "•\tCode:"
   ]
  },
  {
   "cell_type": "code",
   "execution_count": 10,
   "metadata": {},
   "outputs": [
    {
     "name": "stdout",
     "output_type": "stream",
     "text": [
      "U:\n",
      " [[-0.2298477   0.88346102  0.40824829]\n",
      " [-0.52474482  0.24078249 -0.81649658]\n",
      " [-0.81964194 -0.40189603  0.40824829]]\n",
      "S:\n",
      " [9.52551809 0.51430058]\n",
      "Vt:\n",
      " [[-0.61962948 -0.78489445]\n",
      " [-0.78489445  0.61962948]]\n"
     ]
    }
   ],
   "source": [
    "matrix = np.array([[1, 2], [3, 4], [5, 6]])\n",
    "U, S, Vt = np.linalg.svd(matrix)\n",
    "print(\"U:\\n\", U)\n",
    "print(\"S:\\n\", S)\n",
    "print(\"Vt:\\n\", Vt)"
   ]
  },
  {
   "cell_type": "markdown",
   "metadata": {},
   "source": [
    "•\tSVD Visualization (For the matrix):"
   ]
  },
  {
   "cell_type": "code",
   "execution_count": 11,
   "metadata": {},
   "outputs": [
    {
     "data": {
      "image/png": "[encoded data removed]",
      "text/plain": [
       "<Figure size 640x480 with 2 Axes>"
      ]
     },
     "metadata": {},
     "output_type": "display_data"
    }
   ],
   "source": [
    "fig, ax = plt.subplots()\n",
    "sns.heatmap(U, annot=True, cmap='coolwarm', ax=ax)\n",
    "ax.set_title(\"Matrix U in SVD\")\n",
    "plt.show()"
   ]
  },
  {
   "cell_type": "markdown",
   "metadata": {},
   "source": [
    "#### 7. Linear Transformations"
   ]
  },
  {
   "cell_type": "markdown",
   "metadata": {},
   "source": [
    "•\tLinear Transformation refers to the mapping of vectors through a linear function (matrix multiplication). It’s the concept behind techniques like PCA, where data is projected onto a new basis defined by eigenvectors.\n",
    "\n",
    "•\tExample of a Simple Linear Transformation:\n",
    "\n",
    "•\tCode:"
   ]
  },
  {
   "cell_type": "code",
   "execution_count": 12,
   "metadata": {},
   "outputs": [
    {
     "name": "stdout",
     "output_type": "stream",
     "text": [
      "Transformed Matrix:\n",
      " [[ 1  3  5]\n",
      " [-2 -4 -6]]\n"
     ]
    }
   ],
   "source": [
    "transformation_matrix = np.array([[1, 0], [0, -1]])\n",
    "transformed_matrix = np.dot(transformation_matrix, matrix.T)\n",
    "print(\"Transformed Matrix:\\n\", transformed_matrix)"
   ]
  },
  {
   "cell_type": "markdown",
   "metadata": {},
   "source": [
    "•\tVisualization of Transformation:"
   ]
  },
  {
   "cell_type": "code",
   "execution_count": 13,
   "metadata": {},
   "outputs": [
    {
     "data": {
      "image/png": "[encoded data removed]",
      "text/plain": [
       "<Figure size 640x480 with 1 Axes>"
      ]
     },
     "metadata": {},
     "output_type": "display_data"
    }
   ],
   "source": [
    "transformation_matrix = np.array([[1, 0], [0, -1]])  # Reflection across the x-axis\n",
    "transformed_matrix = np.dot(transformation_matrix, matrix.T)\n",
    "\n",
    "plt.quiver(0, 0, matrix[0, 0], matrix[0, 1], angles='xy', scale_units='xy', scale=1, color=\"blue\", label=\"Original Vector\")\n",
    "plt.quiver(0, 0, transformed_matrix[0, 0], transformed_matrix[0, 1], angles='xy', scale_units='xy', scale=1, color=\"red\", label=\"Transformed Vector\")\n",
    "plt.legend()\n",
    "plt.xlim(-5, 5)\n",
    "plt.ylim(-5, 5)\n",
    "plt.grid(True)\n",
    "plt.title(\"Linear Transformation Visualization\")\n",
    "plt.show()"
   ]
  },
  {
   "cell_type": "markdown",
   "metadata": {},
   "source": [
    "#### 8. Dimensionality Reduction Using PCA"
   ]
  },
  {
   "cell_type": "markdown",
   "metadata": {},
   "source": [
    "•\tPCA reduces the number of features in a dataset while retaining most of the variance, using eigenvalues and eigenvectors.\n"
   ]
  },
  {
   "cell_type": "markdown",
   "metadata": {},
   "source": [
    "##### \n",
    "•\tSteps in PCA:"
   ]
  },
  {
   "cell_type": "markdown",
   "metadata": {},
   "source": [
    "\n",
    "•\tStandardize the data.\n",
    "\n",
    "•\tCalculate the covariance matrix.\n",
    "\n",
    "•\tFind the eigenvectors (principal components) and eigenvalues.\n",
    "\n",
    "•\tSort the eigenvectors by eigenvalues (from largest to smallest).\n",
    "\n",
    "•\tProject the original data onto the eigenvectors.\n"
   ]
  },
  {
   "cell_type": "markdown",
   "metadata": {},
   "source": [
    "##### •\tCode Example (PCA):"
   ]
  },
  {
   "cell_type": "code",
   "execution_count": 14,
   "metadata": {},
   "outputs": [
    {
     "name": "stdout",
     "output_type": "stream",
     "text": [
      "Principal Components:\n",
      " [[ 0.9709826 ]\n",
      " [-2.3409061 ]\n",
      " [ 1.12520652]\n",
      " [ 0.24471697]]\n"
     ]
    }
   ],
   "source": [
    "from sklearn.decomposition import PCA\n",
    "from sklearn.preprocessing import StandardScaler\n",
    "\n",
    "# Data\n",
    "data = np.array([[2.5, 2.4], [0.5, 0.7], [2.2, 2.9], [1.9, 2.2]])\n",
    "\n",
    "# Standardize the data\n",
    "scaler = StandardScaler()\n",
    "data_scaled = scaler.fit_transform(data)\n",
    "\n",
    "# Apply PCA\n",
    "pca = PCA(n_components=1)\n",
    "principal_components = pca.fit_transform(data_scaled)\n",
    "print(\"Principal Components:\\n\", principal_components)"
   ]
  }
 ],
 "metadata": {
  "kernelspec": {
   "display_name": "Python 3",
   "language": "python",
   "name": "python3"
  },
  "language_info": {
   "codemirror_mode": {
    "name": "ipython",
    "version": 3
   },
   "file_extension": ".py",
   "mimetype": "text/x-python",
   "name": "python",
   "nbconvert_exporter": "python",
   "pygments_lexer": "ipython3",
   "version": "3.13.1"
  }
 },
 "nbformat": 4,
 "nbformat_minor": 2
}
